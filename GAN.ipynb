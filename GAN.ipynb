{
  "nbformat": 4,
  "nbformat_minor": 0,
  "metadata": {
    "colab": {
      "name": "GAN.ipynb",
      "provenance": [],
      "collapsed_sections": []
    },
    "kernelspec": {
      "name": "python3",
      "display_name": "Python 3"
    }
  },
  "cells": [
    {
      "cell_type": "code",
      "metadata": {
        "id": "jpp2Zuvmz0rG",
        "colab_type": "code",
        "colab": {}
      },
      "source": [
        "import torch\n",
        "import math\n",
        "import numpy as np\n",
        "import torch.nn as nn\n",
        "import scipy.stats as st\n",
        "import matplotlib.pyplot as plt\n",
        "import torch.nn.functional as F\n",
        "from torch.autograd import Variable\n",
        "from torchvision.utils import save_image\n",
        "import torchvision.transforms as transforms\n",
        "from sklearn.mixture import GaussianMixture"
      ],
      "execution_count": 0,
      "outputs": []
    },
    {
      "cell_type": "markdown",
      "metadata": {
        "id": "nSdcOJWRdgwA",
        "colab_type": "text"
      },
      "source": [
        "#Q-5\n",
        "### Hyper parameter"
      ]
    },
    {
      "cell_type": "code",
      "metadata": {
        "id": "JLGKcAqg0PfA",
        "colab_type": "code",
        "colab": {}
      },
      "source": [
        "batch_size = 256\n",
        "epochs=12000\n",
        "d_step=20"
      ],
      "execution_count": 0,
      "outputs": []
    },
    {
      "cell_type": "markdown",
      "metadata": {
        "id": "WEmFRi_efTHc",
        "colab_type": "text"
      },
      "source": [
        "## Function $f(x)$ to generate true samples:\n",
        "\\begin{equation}\n",
        "    f(x) = 0.4\\mathcal{N}(0,4)+0.3\\mathcal{N}(-6,4)+0.3\\mathcal{N}(6,4)\n",
        "\\end{equation}\n",
        "where $\\mathcal{N}(\\mu,\\sigma^2)$ is the Gaussian distrubution with mean $\\mu$ and variance $\\sigma^2$."
      ]
    },
    {
      "cell_type": "code",
      "metadata": {
        "id": "oULspXsQ08k3",
        "colab_type": "code",
        "colab": {}
      },
      "source": [
        "def gen_data(size=10000,dim=1):\n",
        "  return 0.4*np.random.normal(0, 4, (size,dim)) + 0.3*np.random.normal(6, 4,(size,dim)) + 0.3*np.random.normal(-6, 4, (size,dim))\n",
        "\n",
        "def sample_noise(size):\n",
        "    return np.linspace(-5.0, 5.0, size) + np.random.random(size) * 0.01"
      ],
      "execution_count": 0,
      "outputs": []
    },
    {
      "cell_type": "markdown",
      "metadata": {
        "id": "syZFQ1Snhg2W",
        "colab_type": "text"
      },
      "source": [
        "## GAN \n",
        "The GAN algoritjm involves the interplay of two adversaries namely generator and discriminator. In this the generator tries to generate points such that they closely resemble to the point in the original distribution. While a discriminator tries to judge the truthfull ness of the points(if they are generated from original distribution or not).  We train the discriminator  just like  the way we would train any network using both true and false (generated) samples to learn. But for generator we feed the sample generated, through the disciminator to spot the fake and backpropagate the error through the discriminator and the generator."
      ]
    },
    {
      "cell_type": "markdown",
      "metadata": {
        "id": "zfaJd-RLfj4I",
        "colab_type": "text"
      },
      "source": [
        "## Generator Architecture\n",
        "- I have designed the Generatore to model the above function $f(x)$. Given random samples as input, it is expected to output samples very close to $f(x)$,.\n",
        "- It contained three fully connected network with the activation of Relu."
      ]
    },
    {
      "cell_type": "code",
      "metadata": {
        "id": "w-9Sekm52ECV",
        "colab_type": "code",
        "colab": {}
      },
      "source": [
        "class Generator(nn.Module):\n",
        "  def __init__(self):\n",
        "    super(Generator, self).__init__()\n",
        "    self.d1 = nn.Linear(1,10)\n",
        "    self.a1 = nn.ReLU()\n",
        "    self.d2 = nn.Linear(10,10)\n",
        "    self.a2 = nn.ReLU()\n",
        "    self.d3 = nn.Linear(10,1)\n",
        "\n",
        "  def forward(self, x):\n",
        "    x =self.a1(self.d1(x))\n",
        "    x =self.a2(self.d2(x))\n",
        "    x=self.d3(x)\n",
        "    return x"
      ],
      "execution_count": 0,
      "outputs": []
    },
    {
      "cell_type": "markdown",
      "metadata": {
        "id": "wRIlacycgeOj",
        "colab_type": "text"
      },
      "source": [
        "## Discriminator Architecture\n",
        "- The Discriminator is designed in such a way to check the validity of samples,ie, the samples are generated from a true source ( $f(x)$ disrtibution) or from some other source (generator).\n",
        "-  It contained three fully connected network with the activation of Tanh and relu. "
      ]
    },
    {
      "cell_type": "code",
      "metadata": {
        "id": "OdlxQdRK32Ue",
        "colab_type": "code",
        "colab": {}
      },
      "source": [
        "class Discriminator(nn.Module):\n",
        "  def __init__(self):\n",
        "    super(Discriminator, self).__init__()\n",
        "    self.d1 = nn.Linear(1,10)\n",
        "    self.a1 = nn.Tanh()\n",
        "    self.d2 = nn.Linear(10,10)\n",
        "    self.a2 = nn.Tanh()\n",
        "    self.d3 = nn.Linear(10,1)\n",
        "    self.a3 = nn.Sigmoid()\n",
        "\n",
        "  def forward(self, x):\n",
        "    x =self.a1(self.d1(x))\n",
        "    x =self.a2(self.d2(x))\n",
        "    x =self.a3(self.d3(x))\n",
        "    return x\n"
      ],
      "execution_count": 0,
      "outputs": []
    },
    {
      "cell_type": "code",
      "metadata": {
        "id": "xnGS39h-76Jg",
        "colab_type": "code",
        "outputId": "5a3d3a7a-9564-4f81-d1a2-dd3c9183ba43",
        "colab": {
          "base_uri": "https://localhost:8080/",
          "height": 272
        }
      },
      "source": [
        "gen=Generator()\n",
        "print(gen)\n",
        "dis=Discriminator()\n",
        "print(dis)"
      ],
      "execution_count": 0,
      "outputs": [
        {
          "output_type": "stream",
          "text": [
            "Generator(\n",
            "  (d1): Linear(in_features=1, out_features=10, bias=True)\n",
            "  (a1): ReLU()\n",
            "  (d2): Linear(in_features=10, out_features=10, bias=True)\n",
            "  (a2): ReLU()\n",
            "  (d3): Linear(in_features=10, out_features=1, bias=True)\n",
            ")\n",
            "Discriminator(\n",
            "  (d1): Linear(in_features=1, out_features=10, bias=True)\n",
            "  (a1): Tanh()\n",
            "  (d2): Linear(in_features=10, out_features=10, bias=True)\n",
            "  (a2): Tanh()\n",
            "  (d3): Linear(in_features=10, out_features=1, bias=True)\n",
            "  (a3): Sigmoid()\n",
            ")\n"
          ],
          "name": "stdout"
        }
      ]
    },
    {
      "cell_type": "code",
      "metadata": {
        "id": "K13B9xQI8RKQ",
        "colab_type": "code",
        "colab": {}
      },
      "source": [
        "d_optimizer = torch.optim.SGD(dis.parameters(), lr=0.1, momentum=0.6)\n",
        "g_optimizer = torch.optim.SGD(gen.parameters(), lr=0.01, momentum=0.6)"
      ],
      "execution_count": 0,
      "outputs": []
    },
    {
      "cell_type": "markdown",
      "metadata": {
        "id": "3u7ENlXWhxzb",
        "colab_type": "text"
      },
      "source": [
        "## Loss\n",
        "\n",
        "- Loss for dicriminator is given by:\n",
        "\\begin{equation}\n",
        "max_D V(D,G) = -0.5* \\mathbb{E}_{x \\sim f(x)}\\big[logD(x) + log(1-D(G(z)))\\big]\n",
        "\\end{equation}\n",
        "- Loss for generator is given by:\n",
        "\\begin{equation}\n",
        "max_G V(D,G) = -\\mathbb{E}_{x \\sim f(x)}\\big[logD(G(z))\\big]\n",
        "\\end{equation}\n",
        "where $D(x)$ and $G(x)$ are discriminator and generator networks respectively.\n"
      ]
    },
    {
      "cell_type": "code",
      "metadata": {
        "id": "Rwa8ZV14Sd4e",
        "colab_type": "code",
        "colab": {}
      },
      "source": [
        "def gen_criterion(x):\n",
        "    return  -torch.mean(torch.log(x))\n",
        "\n",
        "def dis_criterion(x,y):\n",
        "    return -0.5*torch.mean(torch.log(x) + torch.log(1 - y))"
      ],
      "execution_count": 0,
      "outputs": []
    },
    {
      "cell_type": "markdown",
      "metadata": {
        "id": "929IiQGP97mg",
        "colab_type": "text"
      },
      "source": [
        "## Training our GAN Network.\n",
        "- We train for 20000 epochs.\n",
        "- We expect the loss of Generator and Discriminator will find a mid way  and at this point it will aslo become costant."
      ]
    },
    {
      "cell_type": "code",
      "metadata": {
        "id": "5shvKNydKsCs",
        "colab_type": "code",
        "colab": {}
      },
      "source": [
        "gen_loss_hist=np.zeros(epochs)\n",
        "dis_loss_hist=np.zeros(epochs)\n",
        "for i in range(epochs):\n",
        "  for j in range(d_step):\n",
        "    dis.zero_grad()\n",
        "    data_mini_batch= gen_data(batch_size)\n",
        "    u = sample_noise(batch_size).reshape(batch_size,1)\n",
        "    u_t =torch.tensor(u).float()\n",
        "    data_mini_batch_t =torch.tensor(data_mini_batch).float()\n",
        "    \n",
        "    fake_data = gen(u_t)\n",
        "    fake_data_label = dis(fake_data)\n",
        "    \n",
        "    true_data_label = dis(data_mini_batch_t)\n",
        "    \n",
        "    loss = dis_criterion(true_data_label, fake_data_label)\n",
        "    loss.backward()\n",
        "    d_optimizer.step()\n",
        "    dis_loss_hist[i]=loss.item()\n",
        "\n",
        "  gen.zero_grad()\n",
        "  u = sample_noise(batch_size).reshape(batch_size,1)\n",
        "  u_t =torch.tensor(u).float()\n",
        "\n",
        "  gen_copy = gen(u_t)\n",
        "  gen_copy_label = dis(gen_copy)\n",
        "  loss = gen_criterion(gen_copy_label)\n",
        "  loss.backward()\n",
        "  g_optimizer.step()\n",
        "  gen_loss_hist[i]=loss.item()\n",
        "  if i % 10 == 0:\n",
        "    for p in g_optimizer.param_groups:\n",
        "        p['lr'] *= 0.999\n",
        "    for p in d_optimizer.param_groups:\n",
        "        p['lr'] *= 0.999\n"
      ],
      "execution_count": 0,
      "outputs": []
    },
    {
      "cell_type": "markdown",
      "metadata": {
        "id": "MfHB3UKk8Ie5",
        "colab_type": "text"
      },
      "source": [
        "## Plot of discriminator/generator epoch versus error curve.\n",
        "- We see that as end of training, both the curves meet and also becomes almost constant. It now generator is not able to differentiate fake and true points."
      ]
    },
    {
      "cell_type": "code",
      "metadata": {
        "id": "dVQHAm6yScNU",
        "colab_type": "code",
        "outputId": "59740e30-1380-4510-f0d3-fe2fc91b7835",
        "colab": {
          "base_uri": "https://localhost:8080/",
          "height": 295
        }
      },
      "source": [
        "plt.plot(range(epochs),gen_loss_hist, label='loss_gen')\n",
        "plt.plot(range(epochs),dis_loss_hist, label='loss_dis')\n",
        "plt.title('Training_curve')\n",
        "plt.xlabel(\"Epoch\")\n",
        "plt.ylabel(\"Loss\")\n",
        "plt.legend()\n",
        "plt.show()"
      ],
      "execution_count": 0,
      "outputs": [
        {
          "output_type": "display_data",
          "data": {
            "image/png": "[encoded data removed]",
            "text/plain": [
              "<Figure size 432x288 with 1 Axes>"
            ]
          },
          "metadata": {
            "tags": [],
            "needs_background": "light"
          }
        }
      ]
    },
    {
      "cell_type": "markdown",
      "metadata": {
        "id": "eOS8l_IT8psZ",
        "colab_type": "text"
      },
      "source": [
        "## Tesing"
      ]
    },
    {
      "cell_type": "code",
      "metadata": {
        "id": "7h3BCSCmUg60",
        "colab_type": "code",
        "colab": {}
      },
      "source": [
        "Test=3000\n",
        "Real_points=gen_data(Test).reshape(-1)\n",
        "u_test = sample_noise(Test).reshape(Test,1)\n",
        "u_test_t =torch.tensor(u_test).float()\n",
        "Fake_test= gen(u_test_t)\n",
        "Fake_points=Fake_test.detach().numpy().reshape(-1)\n"
      ],
      "execution_count": 0,
      "outputs": []
    },
    {
      "cell_type": "markdown",
      "metadata": {
        "id": "KYAMAhop8svr",
        "colab_type": "text"
      },
      "source": [
        "### Histogram of points fake points generated by Generator compared with real points.\n",
        "- We observe in the histogram generated by fake points is almost similar to real one."
      ]
    },
    {
      "cell_type": "code",
      "metadata": {
        "id": "LVsuBn98CkyQ",
        "colab_type": "code",
        "outputId": "afcaa674-f3ea-4835-c84e-f07733b27ea2",
        "colab": {
          "base_uri": "https://localhost:8080/",
          "height": 513
        }
      },
      "source": [
        "plt.hist(Fake_points[:], bins=30, density = True)\n",
        "plt.show()\n",
        "plt.hist(Real_points[:], bins=30, density = True)\n",
        "plt.show()"
      ],
      "execution_count": 0,
      "outputs": [
        {
          "output_type": "display_data",
          "data": {
            "image/png": "[encoded data removed]",
            "text/plain": [
              "<Figure size 432x288 with 1 Axes>"
            ]
          },
          "metadata": {
            "tags": [],
            "needs_background": "light"
          }
        },
        {
          "output_type": "display_data",
          "data": {
            "image/png": "[encoded data removed]",
            "text/plain": [
              "<Figure size 432x288 with 1 Axes>"
            ]
          },
          "metadata": {
            "tags": [],
            "needs_background": "light"
          }
        }
      ]
    },
    {
      "cell_type": "markdown",
      "metadata": {
        "id": "ap-04Mlg9QY9",
        "colab_type": "text"
      },
      "source": [
        "\n",
        "- Fitting a GMM (Gaussian Mixture Model) to the samples using EM algorithm.\n"
      ]
    },
    {
      "cell_type": "code",
      "metadata": {
        "id": "ouUTOP9jLQN4",
        "colab_type": "code",
        "colab": {}
      },
      "source": [
        "GMM = GaussianMixture(n_components=3).fit(Fake_points[:].reshape(-1,1))"
      ],
      "execution_count": 0,
      "outputs": []
    },
    {
      "cell_type": "markdown",
      "metadata": {
        "id": "Xm67TjRu9e8b",
        "colab_type": "text"
      },
      "source": [
        "- Checking for the convergence of GMM"
      ]
    },
    {
      "cell_type": "code",
      "metadata": {
        "colab_type": "code",
        "outputId": "11e80b3e-ee2d-4912-e3eb-286278085393",
        "id": "4gMHCpbg9hds",
        "colab": {
          "base_uri": "https://localhost:8080/",
          "height": 34
        }
      },
      "source": [
        "print('Converged:',GMM.converged_) # Check if the model has converged\n",
        "means = GMM.means_ \n",
        "cov=GMM.covariances_\n",
        "weights = GMM.weights_"
      ],
      "execution_count": 0,
      "outputs": [
        {
          "output_type": "stream",
          "text": [
            "Converged: True\n"
          ],
          "name": "stdout"
        }
      ]
    },
    {
      "cell_type": "markdown",
      "metadata": {
        "id": "VSlApnyb9ktE",
        "colab_type": "text"
      },
      "source": [
        "### Mean"
      ]
    },
    {
      "cell_type": "code",
      "metadata": {
        "id": "txD02Q-496Tb",
        "colab_type": "code",
        "outputId": "8c4996ea-4414-4a23-9e16-19be0d2ad990",
        "colab": {
          "base_uri": "https://localhost:8080/",
          "height": 85
        }
      },
      "source": [
        "print(\"Means:\")\n",
        "print(means)"
      ],
      "execution_count": 0,
      "outputs": [
        {
          "output_type": "stream",
          "text": [
            "Means:\n",
            "[[ 2.34384897]\n",
            " [-2.66408054]\n",
            " [-0.14970875]]\n"
          ],
          "name": "stdout"
        }
      ]
    },
    {
      "cell_type": "markdown",
      "metadata": {
        "id": "ICppyS8w9k6e",
        "colab_type": "text"
      },
      "source": [
        "### Covariance "
      ]
    },
    {
      "cell_type": "code",
      "metadata": {
        "id": "USDkHNq8-C86",
        "colab_type": "code",
        "outputId": "a021bf4a-4393-4790-80f2-5da454655123",
        "colab": {
          "base_uri": "https://localhost:8080/",
          "height": 119
        }
      },
      "source": [
        "print(\"Covariance:\")\n",
        "print(cov)"
      ],
      "execution_count": 0,
      "outputs": [
        {
          "output_type": "stream",
          "text": [
            "Covariance:\n",
            "[[[1.96810229]]\n",
            "\n",
            " [[1.89176525]]\n",
            "\n",
            " [[1.33953062]]]\n"
          ],
          "name": "stdout"
        }
      ]
    },
    {
      "cell_type": "markdown",
      "metadata": {
        "id": "1uIYlYl79lMD",
        "colab_type": "text"
      },
      "source": [
        "### Weights"
      ]
    },
    {
      "cell_type": "code",
      "metadata": {
        "id": "wwFlpDtO-IEp",
        "colab_type": "code",
        "outputId": "d9daceef-648f-48ee-8df7-1c7a1a9e1014",
        "colab": {
          "base_uri": "https://localhost:8080/",
          "height": 51
        }
      },
      "source": [
        "print(\"Weights:\")\n",
        "print(weights)"
      ],
      "execution_count": 0,
      "outputs": [
        {
          "output_type": "stream",
          "text": [
            "Weights:\n",
            "[0.32436141 0.26834681 0.40729178]\n"
          ],
          "name": "stdout"
        }
      ]
    },
    {
      "cell_type": "markdown",
      "metadata": {
        "id": "G5hJb0TQ-Qx5",
        "colab_type": "text"
      },
      "source": [
        "### KL-Divergence of the Between the 2 distributions."
      ]
    },
    {
      "cell_type": "code",
      "metadata": {
        "colab_type": "code",
        "outputId": "00fc29a6-3723-4bc2-ebbb-427281c0897c",
        "id": "ImBWGLFz9hd7",
        "colab": {
          "base_uri": "https://localhost:8080/",
          "height": 34
        }
      },
      "source": [
        "log_gan = GMM.score_samples(Fake_points.reshape(-1,1))\n",
        "log_x = GMM.score_samples(Real_points.reshape(-1,1))\n",
        "print(log_gan.mean() - log_x.mean())"
      ],
      "execution_count": 0,
      "outputs": [
        {
          "output_type": "stream",
          "text": [
            "-0.010996733169122752\n"
          ],
          "name": "stdout"
        }
      ]
    },
    {
      "cell_type": "code",
      "metadata": {
        "id": "p6w9udARB-1C",
        "colab_type": "code",
        "colab": {}
      },
      "source": [
        ""
      ],
      "execution_count": 0,
      "outputs": []
    }
  ]
}
